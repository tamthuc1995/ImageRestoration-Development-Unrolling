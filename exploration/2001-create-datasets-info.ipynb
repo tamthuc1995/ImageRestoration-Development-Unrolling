{
 "cells": [
  {
   "cell_type": "code",
   "execution_count": 1,
   "id": "670d0c79",
   "metadata": {},
   "outputs": [],
   "source": [
    "import glob\n",
    "from PIL import Image\n",
    "import os \n",
    "import numpy as np\n",
    "import pandas as pd"
   ]
  },
  {
   "cell_type": "code",
   "execution_count": 2,
   "id": "f7c4e087",
   "metadata": {},
   "outputs": [],
   "source": [
    "ROOT = \"/home/jovyan/shared/Thuc/hoodsgatedrive/projects/\""
   ]
  },
  {
   "cell_type": "markdown",
   "id": "174c3f4e",
   "metadata": {},
   "source": [
    "# TRAINING DATASET"
   ]
  },
  {
   "cell_type": "code",
   "execution_count": 5,
   "id": "c384eb6f",
   "metadata": {},
   "outputs": [],
   "source": [
    "BSD400 = sorted(glob.glob(os.path.join(ROOT,\"dataset/BSD400/*\")))\n",
    "DIV2K = sorted(glob.glob(os.path.join(ROOT,\"dataset/DIV2K/*\")))\n",
    "Flickr2K = sorted(glob.glob(os.path.join(ROOT,\"dataset/Flickr2K/*\")))\n",
    "WaterlooED = sorted(glob.glob(os.path.join(ROOT,\"dataset/WaterlooED/*\")))"
   ]
  },
  {
   "cell_type": "code",
   "execution_count": null,
   "id": "3d8cb026",
   "metadata": {},
   "outputs": [],
   "source": [
    "# index,path,height,width,nchannels\n",
    "list_img_info = []\n",
    "for i, path  in enumerate(DIV2K + Flickr2K + WaterlooED + BSD400):\n",
    "    root = path[:70]\n",
    "    actual_path = path[70:]\n",
    "\n",
    "    img = Image.open(path)\n",
    "    img = np.array(img)\n",
    "\n",
    "    height, width, nchannels = img.shape\n",
    "    list_img_info.append({\n",
    "        \"index\": i,\n",
    "        \"path\": actual_path,\n",
    "        \"height\": height,\n",
    "        \"width\": width,\n",
    "        \"nchannels\": nchannels,\n",
    "    })\n",
    "df_img_info = pd.DataFrame(list_img_info)\n",
    "# df_img_info.to_csv(\"/home/jovyan/shared/Thuc/hoodsgatedrive/projects/datasets/DFWB_training_data_info.csv\", index=False)"
   ]
  },
  {
   "cell_type": "markdown",
   "id": "a202bac0",
   "metadata": {},
   "source": [
    "# TESING DATASET"
   ]
  },
  {
   "cell_type": "code",
   "execution_count": 3,
   "id": "6819e36b",
   "metadata": {},
   "outputs": [],
   "source": [
    "CBSD68 = sorted(glob.glob(os.path.join(ROOT,\"dataset/GaussianTest/CBSD68/*\")))\n",
    "McMaster = sorted(glob.glob(os.path.join(ROOT,\"dataset/GaussianTest/McMaster/*\")))\n",
    "Kodak = sorted(glob.glob(os.path.join(ROOT,\"dataset/GaussianTest/Kodak/*\")))\n",
    "Urban100 = sorted(glob.glob(os.path.join(ROOT,\"dataset/GaussianTest/Urban100/*\")))"
   ]
  },
  {
   "cell_type": "code",
   "execution_count": null,
   "id": "7e365924",
   "metadata": {},
   "outputs": [],
   "source": [
    "# index,path,height,width,nchannels\n",
    "list_img_info = []\n",
    "for i, path  in enumerate(CBSD68):\n",
    "    root = path[:len(ROOT)]\n",
    "    actual_path = path[len(ROOT):]\n",
    "\n",
    "    img = Image.open(path)\n",
    "    img = np.array(img)\n",
    "\n",
    "    height, width, nchannels = img.shape\n",
    "    list_img_info.append({\n",
    "        \"index\": i,\n",
    "        \"path\": actual_path,\n",
    "        \"height\": height,\n",
    "        \"width\": width,\n",
    "        \"nchannels\": nchannels,\n",
    "    })\n",
    "df_img_info = pd.DataFrame(list_img_info)\n",
    "# df_img_info.to_csv(\"/home/jovyan/shared/Thuc/hoodsgatedrive/projects/datasets/CBSD68_testing_data_info.csv\", index=False)\n",
    "df_img_info.head(), df_img_info.shape"
   ]
  },
  {
   "cell_type": "code",
   "execution_count": null,
   "id": "e0bd56fb",
   "metadata": {},
   "outputs": [],
   "source": [
    "# index,path,height,width,nchannels\n",
    "list_img_info = []\n",
    "for i, path  in enumerate(McMaster):\n",
    "    root = path[:len(ROOT)]\n",
    "    actual_path = path[len(ROOT):]\n",
    "\n",
    "    img = Image.open(path)\n",
    "    img = np.array(img)\n",
    "\n",
    "    height, width, nchannels = img.shape\n",
    "    list_img_info.append({\n",
    "        \"index\": i,\n",
    "        \"path\": actual_path,\n",
    "        \"height\": height,\n",
    "        \"width\": width,\n",
    "        \"nchannels\": nchannels,\n",
    "    })\n",
    "df_img_info = pd.DataFrame(list_img_info)\n",
    "# df_img_info.to_csv(\"/home/jovyan/shared/Thuc/hoodsgatedrive/projects/datasets/McMaster_testing_data_info.csv\", index=False)\n",
    "df_img_info.head(), df_img_info.shape"
   ]
  },
  {
   "cell_type": "code",
   "execution_count": null,
   "id": "2a3823cc",
   "metadata": {},
   "outputs": [],
   "source": [
    "# index,path,height,width,nchannels\n",
    "list_img_info = []\n",
    "for i, path  in enumerate(Kodak):\n",
    "    root = path[:len(ROOT)]\n",
    "    actual_path = path[len(ROOT):]\n",
    "\n",
    "    img = Image.open(path)\n",
    "    img = np.array(img)\n",
    "\n",
    "    height, width, nchannels = img.shape\n",
    "    list_img_info.append({\n",
    "        \"index\": i,\n",
    "        \"path\": actual_path,\n",
    "        \"height\": height,\n",
    "        \"width\": width,\n",
    "        \"nchannels\": nchannels,\n",
    "    })\n",
    "df_img_info = pd.DataFrame(list_img_info)\n",
    "# df_img_info.to_csv(\"/home/jovyan/shared/Thuc/hoodsgatedrive/projects/datasets/Kodak_testing_data_info.csv\", index=False)\n",
    "df_img_info.head(), df_img_info.shape"
   ]
  },
  {
   "cell_type": "code",
   "execution_count": null,
   "id": "2964a662",
   "metadata": {},
   "outputs": [
    {
     "data": {
      "text/plain": [
       "(   index                                        path  height  width  nchannels\n",
       " 0      0  datasets/GaussianTest/Urban100/img_001.png     644   1024          3\n",
       " 1      1  datasets/GaussianTest/Urban100/img_002.png     768   1024          3\n",
       " 2      2  datasets/GaussianTest/Urban100/img_003.png     680   1024          3\n",
       " 3      3  datasets/GaussianTest/Urban100/img_004.png     680   1024          3\n",
       " 4      4  datasets/GaussianTest/Urban100/img_005.png     768   1024          3,\n",
       " (100, 5))"
      ]
     },
     "execution_count": 14,
     "metadata": {},
     "output_type": "execute_result"
    }
   ],
   "source": [
    "# index,path,height,width,nchannels\n",
    "list_img_info = []\n",
    "for i, path  in enumerate(Urban100):\n",
    "    root = path[:len(ROOT)]\n",
    "    actual_path = path[len(ROOT):]\n",
    "\n",
    "    img = Image.open(path)\n",
    "    img = np.array(img)\n",
    "\n",
    "    height, width, nchannels = img.shape\n",
    "    list_img_info.append({\n",
    "        \"index\": i,\n",
    "        \"path\": actual_path,\n",
    "        \"height\": height,\n",
    "        \"width\": width,\n",
    "        \"nchannels\": nchannels,\n",
    "    })\n",
    "df_img_info = pd.DataFrame(list_img_info)\n",
    "# df_img_info.to_csv(\"/home/jovyan/shared/Thuc/hoodsgatedrive/projects/datasets/Urban100_testing_data_info.csv\", index=False)\n",
    "df_img_info.head(), df_img_info.shape"
   ]
  },
  {
   "cell_type": "code",
   "execution_count": null,
   "id": "96897549",
   "metadata": {},
   "outputs": [],
   "source": []
  },
  {
   "cell_type": "code",
   "execution_count": null,
   "id": "2e3126af",
   "metadata": {},
   "outputs": [],
   "source": []
  },
  {
   "cell_type": "code",
   "execution_count": null,
   "id": "ec536975",
   "metadata": {},
   "outputs": [],
   "source": []
  }
 ],
 "metadata": {
  "kernelspec": {
   "display_name": "Python 3",
   "language": "python",
   "name": "python3"
  },
  "language_info": {
   "codemirror_mode": {
    "name": "ipython",
    "version": 3
   },
   "file_extension": ".py",
   "mimetype": "text/x-python",
   "name": "python",
   "nbconvert_exporter": "python",
   "pygments_lexer": "ipython3",
   "version": "3.11.13"
  }
 },
 "nbformat": 4,
 "nbformat_minor": 5
}
